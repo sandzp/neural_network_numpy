{
 "cells": [
  {
   "cell_type": "markdown",
   "metadata": {},
   "source": [
    "## Imports and EDA"
   ]
  },
  {
   "cell_type": "code",
   "execution_count": 11,
   "metadata": {},
   "outputs": [],
   "source": [
    "# Import libraries\n",
    "\n",
    "import csv\n",
    "import pandas as pd\n",
    "import numpy as np\n",
    "import warnings\n",
    "warnings.filterwarnings(\"ignore\")\n",
    "import matplotlib.pyplot as plt\n",
    "from sklearn.model_selection import train_test_split\n",
    "from sklearn.preprocessing import StandardScaler"
   ]
  },
  {
   "cell_type": "code",
   "execution_count": 3,
   "metadata": {},
   "outputs": [],
   "source": [
    "# Define header names\n",
    "\n",
    "headers = ['age', 'sex','chest_pain','resting_blood_pressure',  \n",
    "        'serum_cholestoral', 'fasting_blood_sugar', 'resting_ecg_results',\n",
    "        'max_heart_rate_achieved', 'exercise_induced_angina', 'oldpeak',\"slope of the peak\",\n",
    "        'num_of_major_vessels','thal', 'heart_disease']\n",
    "\n",
    "# Make DF\n",
    "\n",
    "heart_df = pd.read_csv('heart.dat', sep = ' ', names = headers)"
   ]
  },
  {
   "cell_type": "code",
   "execution_count": 7,
   "metadata": {},
   "outputs": [
    {
     "data": {
      "text/plain": [
       "(270, 14)"
      ]
     },
     "execution_count": 7,
     "metadata": {},
     "output_type": "execute_result"
    }
   ],
   "source": [
    "# Check shape of DF\n",
    "heart_df.shape"
   ]
  },
  {
   "cell_type": "code",
   "execution_count": 8,
   "metadata": {},
   "outputs": [
    {
     "data": {
      "text/plain": [
       "age                        0\n",
       "sex                        0\n",
       "chest_pain                 0\n",
       "resting_blood_pressure     0\n",
       "serum_cholestoral          0\n",
       "fasting_blood_sugar        0\n",
       "resting_ecg_results        0\n",
       "max_heart_rate_achieved    0\n",
       "exercise_induced_angina    0\n",
       "oldpeak                    0\n",
       "slope of the peak          0\n",
       "num_of_major_vessels       0\n",
       "thal                       0\n",
       "heart_disease              0\n",
       "dtype: int64"
      ]
     },
     "execution_count": 8,
     "metadata": {},
     "output_type": "execute_result"
    }
   ],
   "source": [
    "# Check for na's\n",
    "\n",
    "heart_df.isna().sum()"
   ]
  },
  {
   "cell_type": "code",
   "execution_count": 10,
   "metadata": {},
   "outputs": [
    {
     "data": {
      "text/plain": [
       "age                        float64\n",
       "sex                        float64\n",
       "chest_pain                 float64\n",
       "resting_blood_pressure     float64\n",
       "serum_cholestoral          float64\n",
       "fasting_blood_sugar        float64\n",
       "resting_ecg_results        float64\n",
       "max_heart_rate_achieved    float64\n",
       "exercise_induced_angina    float64\n",
       "oldpeak                    float64\n",
       "slope of the peak          float64\n",
       "num_of_major_vessels       float64\n",
       "thal                       float64\n",
       "heart_disease                int64\n",
       "dtype: object"
      ]
     },
     "execution_count": 10,
     "metadata": {},
     "output_type": "execute_result"
    }
   ],
   "source": [
    "# Check datatypes\n",
    "\n",
    "heart_df.dtypes"
   ]
  },
  {
   "cell_type": "code",
   "execution_count": 15,
   "metadata": {},
   "outputs": [],
   "source": [
    "# Define training set\n",
    "\n",
    "X = heart_df.drop(columns = ['heart_disease'])\n",
    "\n",
    "# Enumerate target class i.e. labels\n",
    "heart_df['heart_disease'] = heart_df['heart_disease'].replace(1,0)\n",
    "heart_df['heart_disease'] = heart_df['heart_disease'].replace(2,1)\n",
    "\n",
    "y_label = heart_df['heart_disease'].values.reshape(X.shape[0], 1)\n",
    "\n",
    "# Make train-test split\n",
    "Xtrain, Xtest, ytrain, ytest = train_test_split(X, y_label, test_size = 0.2, random_state = 2)"
   ]
  },
  {
   "cell_type": "code",
   "execution_count": 17,
   "metadata": {},
   "outputs": [
    {
     "name": "stdout",
     "output_type": "stream",
     "text": [
      "Shape of train set is (216, 13)\n",
      "Shape of test set is (54, 13)\n",
      "Shape of train label is (216, 1)\n",
      "Shape of test labels is (54, 1)\n"
     ]
    }
   ],
   "source": [
    "# Scale values\n",
    "\n",
    "sc = StandardScaler()\n",
    "sc.fit(Xtrain)\n",
    "Xtrain = sc.transform(Xtrain)\n",
    "Xtest = sc.transform(Xtest)\n",
    "\n",
    "print(f\"Shape of train set is {Xtrain.shape}\")\n",
    "print(f\"Shape of test set is {Xtest.shape}\")\n",
    "print(f\"Shape of train label is {ytrain.shape}\")\n",
    "print(f\"Shape of test labels is {ytest.shape}\")"
   ]
  },
  {
   "cell_type": "markdown",
   "metadata": {},
   "source": [
    "## Define Neural Net"
   ]
  },
  {
   "cell_type": "code",
   "execution_count": 52,
   "metadata": {},
   "outputs": [],
   "source": [
    "class NeuralNet():\n",
    "    '''\n",
    "    Two layer neural network\n",
    "    '''\n",
    "    \n",
    "    def __init__(self, layers = [13, 8, 1], learning_rate = 0.001, epochs = 500):\n",
    "        self.params = {}\n",
    "        self.learning_rate = learning_rate\n",
    "        self.epochs = epochs\n",
    "        self.loss = []\n",
    "        self.sample_size = None\n",
    "        self.layers = layers\n",
    "        self.X = None\n",
    "        self.y = None\n",
    "        \n",
    "    def init_weights(self):\n",
    "        '''\n",
    "        Initialize the weights from a random normal distribution\n",
    "        '''\n",
    "        np.random.seed(1) # Seed the random number generator\n",
    "        self.params[\"W1\"] = np.random.randn(self.layers[0], self.layers[1])\n",
    "        self.params['b1'] = np.random.randn(self.layers[1])\n",
    "        self.params['W2'] = np.random.randn(self.layers[1], self.layers[2])\n",
    "        self.params['b2'] = np.random.randn(self.layers[2])\n",
    "        \n",
    "    def relu(self, Z):\n",
    "        '''\n",
    "        ReLU activation function, threshold operation where values < 0 = 0\n",
    "        '''\n",
    "        return np.maximum(0,Z)\n",
    "    \n",
    "    def sigmoid(self, Z):\n",
    "        '''\n",
    "        Sigmoid activation function\n",
    "        '''\n",
    "        return 1/(1 + np.exp(-Z))\n",
    "    \n",
    "    def eta(self, x):\n",
    "        '''\n",
    "        Function to handle 0 values\n",
    "        '''\n",
    "        ETA = 0.0000000001\n",
    "        return np.maximum(x, ETA)\n",
    "    \n",
    "    def cross_entropy(self, y, yhat):\n",
    "        '''\n",
    "        Cross entropy loss function guaranteed to converge\n",
    "        '''\n",
    "        nsample = len(y)\n",
    "        yhat_inv = 1.0 - yhat\n",
    "        yinv = 1.0 - y\n",
    "        yhat = self.eta(yhat) # clips values to avoid NaN's in log function\n",
    "        yhat_inv = self.eta(yhat_inv)\n",
    "        loss = -1/nsample * (np.sum(np.multiply(np.log(yhat), y) + np.multiply((yinv), np.log(yhat_inv))))\n",
    "        return loss\n",
    "    \n",
    "    def forward_propagation(self):\n",
    "        '''\n",
    "        1. Compute weighted sum between input and first layer's weights and then adds the bias: Z1 = (W1*X) + b\n",
    "        2. Pass result through ReLU activation function: A1 = ReLU(Z1)\n",
    "        3. Compute output function by passing the result through the sigmoid function: A2 = sigmoid(Z2)\n",
    "        4. Compute the loss between the predicted output and the true labels: loss(A2, Y)\n",
    "        '''\n",
    "        Z1 = self.X.dot(self.params['W1']) + self.params['b1']\n",
    "        A1 = self.relu(Z1)\n",
    "        Z2 = A1.dot(self.params['W2']) + self.params['b2']\n",
    "        yhat = self.sigmoid(Z2)\n",
    "        loss = self.cross_entropy(self.y, yhat)\n",
    "        \n",
    "        # Save calculated parameters:\n",
    "        self.params['Z1'] = Z1\n",
    "        self.params['Z2'] = Z2\n",
    "        self.params['A1'] = A1\n",
    "        \n",
    "        return yhat, loss\n",
    "    \n",
    "    def drelu(self, Z):\n",
    "        Z[Z <= 0] = 0\n",
    "        Z[Z > 0] = 1\n",
    "        return Z\n",
    "    \n",
    "    def backward_propagation(self, yhat):\n",
    "        '''\n",
    "        Calculates the derivatives of respective functions and updates the weights\n",
    "        '''\n",
    "        y_inv = 1 - self.y\n",
    "        yhat_inv = 1 - yhat\n",
    "        \n",
    "        dl_wrt_yhat = np.divide(y_inv, self.eta(yhat_inv)) - np.divide(self.y, self.eta(yhat))\n",
    "        dl_wrt_sig = yhat * yhat_inv\n",
    "        dl_wrt_z2 = dl_wrt_yhat * dl_wrt_sig\n",
    "        \n",
    "        dl_wrt_A1 = dl_wrt_z2.dot(self.params['W2'].T)\n",
    "        dl_wrt_w2 = self.params['A1'].T.dot(dl_wrt_z2)\n",
    "        dl_wrt_b2 = np.sum(dl_wrt_z2, axis = 0, keepdims = True)\n",
    "        \n",
    "        dl_wrt_z1 = dl_wrt_A1 * self.drelu(self.params['Z1'])\n",
    "        dl_wrt_w1 = self.X.T.dot(dl_wrt_z1)\n",
    "        dl_wrt_b1 = np.sum(dl_wrt_z1, axis = 0, keepdims = True)\n",
    "        \n",
    "        #update the weights and biases\n",
    "        self.params['W1'] = self.params['W1'] - self.learning_rate * dl_wrt_w1\n",
    "        self.params['W2'] = self.params['W2'] - self.learning_rate * dl_wrt_w2\n",
    "        self.params['b1'] = self.params['b1'] - self.learning_rate * dl_wrt_b1\n",
    "        self.params['b2'] = self.params['b2'] - self.learning_rate * dl_wrt_b2\n",
    "    \n",
    "    def fit(self, X, y):\n",
    "        '''\n",
    "        Trains the neural network using specified data + labels\n",
    "        '''\n",
    "        self.X = X\n",
    "        self.y = y\n",
    "        self.init_weights() # initialize weights and biases\n",
    "        \n",
    "        #Train neural network using certain number of epochs\n",
    "        for i in range(self.epochs):\n",
    "            yhat, loss = self.forward_propagation()\n",
    "            self.backward_propagation(yhat)\n",
    "            self.loss.append(loss)\n",
    "            print(\"Training epoch {}, calculated loss: {}\".format(i, loss))\n",
    "            \n",
    "    def predict(self, X):\n",
    "        '''\n",
    "        Makes predictions on test dataset\n",
    "        '''\n",
    "        Z1 = X.dot(self.params['W1']) + self.params['b1']\n",
    "        A1 = self.relu(Z1)\n",
    "        Z2 = A1.dot(self.params['W2']) + self.params['b2']\n",
    "        pred = self.sigmoid(Z2)\n",
    "        return np.round(pred)\n",
    "    \n",
    "    def accuracy(self, y, yhat):\n",
    "        '''\n",
    "        Calculates the accuracy between predicted value and true labels\n",
    "        '''\n",
    "        acc = int(sum(y == yhat) / len(y) * 100)\n",
    "        return acc\n",
    "    \n",
    "    def plot_loss(self):\n",
    "        '''\n",
    "        Plots a loss curve\n",
    "        '''\n",
    "        \n",
    "        plt.plot(self.loss)\n",
    "        plt.xlabel(\"Iteration\")\n",
    "        plt.ylabel(\"Loss\")\n",
    "        plt.title(\"Loss Curve for Training\")\n",
    "        plt.show()"
   ]
  },
  {
   "cell_type": "code",
   "execution_count": 55,
   "metadata": {},
   "outputs": [],
   "source": [
    "nn = NeuralNet(epochs=50)"
   ]
  },
  {
   "cell_type": "code",
   "execution_count": 56,
   "metadata": {},
   "outputs": [
    {
     "name": "stdout",
     "output_type": "stream",
     "text": [
      "Training epoch 0, calculated loss: 1.0072659999619482\n",
      "Training epoch 1, calculated loss: 0.6904997757203595\n",
      "Training epoch 2, calculated loss: 0.49898087022218157\n",
      "Training epoch 3, calculated loss: 0.3771028160333723\n",
      "Training epoch 4, calculated loss: 0.2955312587168587\n",
      "Training epoch 5, calculated loss: 0.23871501410430418\n",
      "Training epoch 6, calculated loss: 0.19770785068659694\n",
      "Training epoch 7, calculated loss: 0.16729960492522436\n",
      "Training epoch 8, calculated loss: 0.14421158780645252\n",
      "Training epoch 9, calculated loss: 0.12669914033457857\n",
      "Training epoch 10, calculated loss: 0.11308843439752954\n",
      "Training epoch 11, calculated loss: 0.10222673090743531\n",
      "Training epoch 12, calculated loss: 0.09341376054889734\n",
      "Training epoch 13, calculated loss: 0.0861800858864564\n",
      "Training epoch 14, calculated loss: 0.0800692959067853\n",
      "Training epoch 15, calculated loss: 0.07484117508756252\n",
      "Training epoch 16, calculated loss: 0.07031659646416918\n",
      "Training epoch 17, calculated loss: 0.0663560310251815\n",
      "Training epoch 18, calculated loss: 0.06286656670909639\n",
      "Training epoch 19, calculated loss: 0.05976093981547171\n",
      "Training epoch 20, calculated loss: 0.056976328109601765\n",
      "Training epoch 21, calculated loss: 0.05446287119284778\n",
      "Training epoch 22, calculated loss: 0.05217995062481492\n",
      "Training epoch 23, calculated loss: 0.05008818709179406\n",
      "Training epoch 24, calculated loss: 0.04816995696047311\n",
      "Training epoch 25, calculated loss: 0.04640321989931732\n",
      "Training epoch 26, calculated loss: 0.044769620298733596\n",
      "Training epoch 27, calculated loss: 0.04325374472617561\n",
      "Training epoch 28, calculated loss: 0.04184254895237056\n",
      "Training epoch 29, calculated loss: 0.040524913855616566\n",
      "Training epoch 30, calculated loss: 0.039290023790606164\n",
      "Training epoch 31, calculated loss: 0.03812942919500305\n",
      "Training epoch 32, calculated loss: 0.03703797936159931\n",
      "Training epoch 33, calculated loss: 0.03600933273124084\n",
      "Training epoch 34, calculated loss: 0.03503793065389287\n",
      "Training epoch 35, calculated loss: 0.034118878772688106\n",
      "Training epoch 36, calculated loss: 0.0332478456348124\n",
      "Training epoch 37, calculated loss: 0.03242098141277899\n",
      "Training epoch 38, calculated loss: 0.03163484225788922\n",
      "Training epoch 39, calculated loss: 0.030886352330913202\n",
      "Training epoch 40, calculated loss: 0.03017277034242753\n",
      "Training epoch 41, calculated loss: 0.029491609454063577\n",
      "Training epoch 42, calculated loss: 0.028840659319431687\n",
      "Training epoch 43, calculated loss: 0.028217827958782308\n",
      "Training epoch 44, calculated loss: 0.02762078518179453\n",
      "Training epoch 45, calculated loss: 0.027048340973354717\n",
      "Training epoch 46, calculated loss: 0.026498814598384334\n",
      "Training epoch 47, calculated loss: 0.025970975794117713\n",
      "Training epoch 48, calculated loss: 0.025463526713035447\n",
      "Training epoch 49, calculated loss: 0.02497476932474063\n"
     ]
    }
   ],
   "source": [
    "nn.fit(Xtrain, ytrain)"
   ]
  },
  {
   "cell_type": "code",
   "execution_count": 57,
   "metadata": {},
   "outputs": [
    {
     "data": {
      "image/png": "[encoded data removed]",
      "text/plain": [
       "<Figure size 432x288 with 1 Axes>"
      ]
     },
     "metadata": {
      "needs_background": "light"
     },
     "output_type": "display_data"
    }
   ],
   "source": [
    "nn.plot_loss()"
   ]
  },
  {
   "cell_type": "code",
   "execution_count": 58,
   "metadata": {},
   "outputs": [],
   "source": [
    "train_pred = nn.predict(Xtrain)\n",
    "test_pred = nn.predict(Xtest)"
   ]
  },
  {
   "cell_type": "code",
   "execution_count": 59,
   "metadata": {},
   "outputs": [
    {
     "name": "stdout",
     "output_type": "stream",
     "text": [
      "Train accuracy is 100\n",
      "Test accuracy is 100\n"
     ]
    }
   ],
   "source": [
    "print(\"Train accuracy is {}\".format(nn.accuracy(ytrain, train_pred)))\n",
    "print(\"Test accuracy is {}\".format(nn.accuracy(ytest, test_pred)))"
   ]
  },
  {
   "cell_type": "code",
   "execution_count": null,
   "metadata": {},
   "outputs": [],
   "source": []
  }
 ],
 "metadata": {
  "kernelspec": {
   "display_name": "Python 3",
   "language": "python",
   "name": "python3"
  },
  "language_info": {
   "codemirror_mode": {
    "name": "ipython",
    "version": 3
   },
   "file_extension": ".py",
   "mimetype": "text/x-python",
   "name": "python",
   "nbconvert_exporter": "python",
   "pygments_lexer": "ipython3",
   "version": "3.7.7"
  }
 },
 "nbformat": 4,
 "nbformat_minor": 4
}
